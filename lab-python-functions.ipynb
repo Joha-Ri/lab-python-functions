{
 "cells": [
  {
   "cell_type": "markdown",
   "id": "25d7736c-ba17-4aff-b6bb-66eba20fbf4e",
   "metadata": {},
   "source": [
    "# Lab | Functions"
   ]
  },
  {
   "cell_type": "markdown",
   "id": "0c581062-8967-4d93-b06e-62833222f930",
   "metadata": {
    "tags": []
   },
   "source": [
    "## Exercise: Managing Customer Orders with Functions\n",
    "\n",
    "In the previous exercise, you improved the code for managing customer orders by using loops and flow control. Now, let's take it a step further and refactor the code by introducing functions.\n",
    "\n",
    "Follow the steps below to complete the exercise:\n",
    "\n",
    "1. Define a function named `initialize_inventory` that takes `products` as a parameter. Inside the function, implement the code for initializing the inventory dictionary using a loop and user input.\n",
    "\n",
    "2. Define a function named `get_customer_orders` that takes no parameters. Inside the function, implement the code for prompting the user to enter the product names using a loop. The function should return the `customer_orders` set.\n",
    "\n",
    "3. Define a function named `update_inventory` that takes `customer_orders` and `inventory` as parameters. Inside the function, implement the code for updating the inventory dictionary based on the customer orders.\n",
    "\n",
    "4. Define a function named `calculate_order_statistics` that takes `customer_orders` and `products` as parameters. Inside the function, implement the code for calculating the order statistics (total products ordered, and percentage of unique products ordered). The function should return these values.\n",
    "\n",
    "5. Define a function named `print_order_statistics` that takes `order_statistics` as a parameter. Inside the function, implement the code for printing the order statistics.\n",
    "\n",
    "6. Define a function named `print_updated_inventory` that takes `inventory` as a parameter. Inside the function, implement the code for printing the updated inventory.\n",
    "\n",
    "7. Call the functions in the appropriate sequence to execute the program and manage customer orders.\n",
    "\n",
    "Hints for functions:\n",
    "\n",
    "- Consider the input parameters required for each function and their return values.\n",
    "- Utilize function parameters and return values to transfer data between functions.\n",
    "- Test your functions individually to ensure they work correctly.\n",
    "\n",
    "\n"
   ]
  },
  {
   "cell_type": "code",
   "execution_count": 1,
   "id": "a33686cb-f740-4029-a7a8-374ebdd9d5c4",
   "metadata": {},
   "outputs": [],
   "source": [
    "# Define a function named initialize_inventory that takes products as a parameter. \n",
    "#Inside the function, implement the code for initializing the inventory dictionary using a loop and user input.\n",
    "\n",
    "products = [\"t-shirt\", \"mug\", \"hat\", \"book\", \"keychain\"]\n",
    "\n",
    "def initialize_inventory(products):\n",
    "    inventory = {}\n",
    "    customer_orders = set()\n",
    "    for product in products:\n",
    "        quantity = int(input(f\"Enter the quantity of each products :, {products}\"))\n",
    "        inventory[product] = quantity\n",
    "    return inventory"
   ]
  },
  {
   "cell_type": "code",
   "execution_count": 2,
   "id": "3c2257c4-b0ed-4d25-8bd9-45835c0e6301",
   "metadata": {},
   "outputs": [],
   "source": [
    "# Inside the function, implement the code for prompting the user to enter the product names using a loop. \n",
    "# The function should return the customer_orders set.\n",
    "\n",
    "def get_customer_orders():\n",
    "    customer_orders = set()\n",
    "    while True:\n",
    "        choice = input(\"Enter the name of product that you want to order:\")\n",
    "        if choice in products:\n",
    "            customer_orders.add(choice)\n",
    "        else:\n",
    "            print(\"product nor available\")\n",
    "    \n",
    "        another_choice = input(\"Do you want to add another product ? (yes/no):\").strip().lower()\n",
    "        if another_choice != \"yes\":\n",
    "            break\n",
    "    return customer_orders"
   ]
  },
  {
   "cell_type": "code",
   "execution_count": 8,
   "id": "fa159c9e-63b4-43d4-aa0b-4571d94b0e25",
   "metadata": {},
   "outputs": [],
   "source": [
    "# Define a function named update_inventory that takes customer_orders and inventory as parameters. \n",
    "# Inside the function, implement the code for updating the inventory dictionary based on the customer orders.\n",
    "\n",
    "\n",
    "def update_inventory(customer_orders, inventory):\n",
    "    for choice in customer_orders:\n",
    "        if inventory[choice]> 0:\n",
    "            inventory[choice]-=1\n",
    "    return inventory"
   ]
  },
  {
   "cell_type": "code",
   "execution_count": 4,
   "id": "9aeaa166-9252-47b4-a56b-713b6c462da2",
   "metadata": {},
   "outputs": [],
   "source": [
    "# Define a function named calculate_order_statistics that takes customer_orders and products as parameters. \n",
    "# Inside the function, implement the code for calculating the order statistics (total products ordered, and percentage of unique products ordered). \n",
    "# The function should return these values.\n",
    "\n",
    "def calculate_order_statistics(customer_orders, products):\n",
    "    total_products_ordered = len(customer_orders)\n",
    "    percentage_of_products_ordered = (total_products_ordered/len(products)) * 100\n",
    "\n",
    "    return (total_products_ordered , percentage_of_products_ordered)"
   ]
  },
  {
   "cell_type": "code",
   "execution_count": 5,
   "id": "a1a9ce4c-983f-4cb7-bc44-d4d2ea1385c3",
   "metadata": {},
   "outputs": [],
   "source": [
    "# 5. Define a function named print_order_statistics that takes order_statistics as a parameter. \n",
    "# Inside the function, implement the code for printing the order statistics.\n",
    "\n",
    "def print_order_statistics(order_statistics):\n",
    "    #order_statistics = (total_products_ordered , percentage_of_products_ordered)\n",
    "    print(\"\\nOrder Statistics:\\nTotal Products Ordered: {total_products_ordered}\\nPercentage of Products Ordered: {percentage_ordered:.2f}%\")\n",
    "    return order_statistics"
   ]
  },
  {
   "cell_type": "code",
   "execution_count": 9,
   "id": "9d829eba-a444-471d-8f5e-7dfd184fca0a",
   "metadata": {},
   "outputs": [],
   "source": [
    "# Define a function named print_updated_inventory that takes inventory as a parameter. \n",
    "#Inside the function, implement the code for printing the updated inventory.\n",
    "\n",
    "def print_updated_inventory(inventory):\n",
    "    print(\"\\nUpdate Inventory:\")\n",
    "    for product, quantity in inventory.items():\n",
    "        print(f\"{product}: {quantity}\")\n",
    "\n",
    "    return inventory"
   ]
  },
  {
   "cell_type": "code",
   "execution_count": 7,
   "id": "4ceb1b6e-d315-4254-b794-0a5c5038d40f",
   "metadata": {},
   "outputs": [
    {
     "name": "stdin",
     "output_type": "stream",
     "text": [
      "Enter the quantity of each products :, ['t-shirt', 'mug', 'hat', 'book', 'keychain'] 2\n",
      "Enter the quantity of each products :, ['t-shirt', 'mug', 'hat', 'book', 'keychain'] 4\n",
      "Enter the quantity of each products :, ['t-shirt', 'mug', 'hat', 'book', 'keychain'] 6\n",
      "Enter the quantity of each products :, ['t-shirt', 'mug', 'hat', 'book', 'keychain'] 8\n",
      "Enter the quantity of each products :, ['t-shirt', 'mug', 'hat', 'book', 'keychain'] 9\n",
      "Enter the name of product that you want to order: keychain\n",
      "Do you want to add another product ? (yes/no): yes\n",
      "Enter the name of product that you want to order: mug\n",
      "Do you want to add another product ? (yes/no): yes\n",
      "Enter the name of product that you want to order: hat\n",
      "Do you want to add another product ? (yes/no): no\n"
     ]
    },
    {
     "name": "stdout",
     "output_type": "stream",
     "text": [
      "\n",
      "Inventory:\n",
      "t-shirt: 2\n",
      "mug: 3\n",
      "hat: 6\n",
      "book: 8\n",
      "keychain: 9\n",
      "\n",
      "Inventory:\n",
      "t-shirt: 2\n",
      "mug: 3\n",
      "hat: 6\n",
      "book: 8\n",
      "keychain: 8\n",
      "\n",
      "Inventory:\n",
      "t-shirt: 2\n",
      "mug: 3\n",
      "hat: 5\n",
      "book: 8\n",
      "keychain: 8\n",
      "\n",
      "Order Statistics:\n",
      "Total Products Ordered: {total_products_ordered}\n",
      "Percentage of Products Ordered: {percentage_ordered:.2f}%\n",
      "\n",
      "Update Inventory:\n",
      "t-shirt: 2\n",
      "mug: 3\n",
      "hat: 5\n",
      "book: 8\n",
      "keychain: 8\n"
     ]
    }
   ],
   "source": [
    "# Call the functions in the appropriate sequence \n",
    "#to execute the program and manage customer orders.\n",
    "\n",
    "products = [\"t-shirt\", \"mug\", \"hat\", \"book\", \"keychain\"]\n",
    "def main ():\n",
    "    inventory = initialize_inventory(products)\n",
    "    customer_orders = get_customer_orders()\n",
    "    inventory = update_inventory(customer_orders, inventory)\n",
    "    order_statistics = calculate_order_statistics(customer_orders, products)\n",
    "    print_order_statistics(order_statistics)\n",
    "    print_updated_inventory(inventory)\n",
    "\n",
    "main()"
   ]
  }
 ],
 "metadata": {
  "kernelspec": {
   "display_name": "Python 3 (ipykernel)",
   "language": "python",
   "name": "python3"
  },
  "language_info": {
   "codemirror_mode": {
    "name": "ipython",
    "version": 3
   },
   "file_extension": ".py",
   "mimetype": "text/x-python",
   "name": "python",
   "nbconvert_exporter": "python",
   "pygments_lexer": "ipython3",
   "version": "3.12.4"
  }
 },
 "nbformat": 4,
 "nbformat_minor": 5
}
